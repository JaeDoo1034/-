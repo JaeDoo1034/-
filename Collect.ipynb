{
 "cells": [
  {
   "cell_type": "markdown",
   "metadata": {},
   "source": [
    "따라하기 및 참고자료: https://soyoung-new-challenge.tistory.com/m/46"
   ]
  },
  {
   "cell_type": "code",
   "execution_count": 1,
   "metadata": {},
   "outputs": [],
   "source": [
    "import selenium\n",
    "import pyautogui\n",
    "from selenium import webdriver\n",
    "from selenium.webdriver.common.keys import Keys\n",
    "import time\n",
    "from selenium.webdriver.chrome.options import Options # 옵션 지정\n",
    "\n",
    "#from bs4 import BeautifulSoup \n",
    "#from urllib.request import urlopen\n",
    "\n",
    "import pandas as pd\n",
    "import numpy as np\n",
    "from tqdm import tqdm"
   ]
  },
  {
   "cell_type": "code",
   "execution_count": 3,
   "metadata": {},
   "outputs": [
    {
     "name": "stderr",
     "output_type": "stream",
     "text": [
      "\r",
      "  0%|                                                   | 0/23 [00:00<?, ?it/s]"
     ]
    },
    {
     "name": "stdout",
     "output_type": "stream",
     "text": [
      "[<selenium.webdriver.remote.webelement.WebElement (session=\"a72d102a4b34caa12d7c57ab6556596c\", element=\"8321b3b8-0a06-469e-b264-6a312ca23a10\")>, <selenium.webdriver.remote.webelement.WebElement (session=\"a72d102a4b34caa12d7c57ab6556596c\", element=\"2fe004fb-6e9c-4b00-aabc-f6c35d7a546c\")>, <selenium.webdriver.remote.webelement.WebElement (session=\"a72d102a4b34caa12d7c57ab6556596c\", element=\"4baddbbb-3809-4ab4-8075-e690c9f4f95f\")>, <selenium.webdriver.remote.webelement.WebElement (session=\"a72d102a4b34caa12d7c57ab6556596c\", element=\"022e45e6-9342-4c51-a5e7-cb0f22ac938e\")>, <selenium.webdriver.remote.webelement.WebElement (session=\"a72d102a4b34caa12d7c57ab6556596c\", element=\"1a7691ed-a385-45e8-92ec-070eb60447aa\")>, <selenium.webdriver.remote.webelement.WebElement (session=\"a72d102a4b34caa12d7c57ab6556596c\", element=\"41210ca0-05c1-4b2d-8f0b-33be1eeef80b\")>, <selenium.webdriver.remote.webelement.WebElement (session=\"a72d102a4b34caa12d7c57ab6556596c\", element=\"23774601-cae5-4d83-8cbe-aee37387acfd\")>, <selenium.webdriver.remote.webelement.WebElement (session=\"a72d102a4b34caa12d7c57ab6556596c\", element=\"b9d7e244-34cd-4c45-acf6-6258fb599796\")>, <selenium.webdriver.remote.webelement.WebElement (session=\"a72d102a4b34caa12d7c57ab6556596c\", element=\"122d5d35-2834-4dcd-97b6-8a983c13b552\")>, <selenium.webdriver.remote.webelement.WebElement (session=\"a72d102a4b34caa12d7c57ab6556596c\", element=\"49e5b93a-8b85-4491-bc7e-6d84f5d86534\")>, <selenium.webdriver.remote.webelement.WebElement (session=\"a72d102a4b34caa12d7c57ab6556596c\", element=\"f8860396-5b1c-46db-84af-f51755e22d61\")>, <selenium.webdriver.remote.webelement.WebElement (session=\"a72d102a4b34caa12d7c57ab6556596c\", element=\"1893f957-642d-4540-8dc4-08195dbbe555\")>, <selenium.webdriver.remote.webelement.WebElement (session=\"a72d102a4b34caa12d7c57ab6556596c\", element=\"e86aca2c-a625-43a7-881d-87cf89294c5d\")>, <selenium.webdriver.remote.webelement.WebElement (session=\"a72d102a4b34caa12d7c57ab6556596c\", element=\"a8d310b9-6bd1-47a1-a1db-b64ada1e87a5\")>, <selenium.webdriver.remote.webelement.WebElement (session=\"a72d102a4b34caa12d7c57ab6556596c\", element=\"62a257d3-10dd-4173-b946-cccbb5a70c8f\")>, <selenium.webdriver.remote.webelement.WebElement (session=\"a72d102a4b34caa12d7c57ab6556596c\", element=\"986de57b-f87c-478e-8e97-8bea83649e10\")>, <selenium.webdriver.remote.webelement.WebElement (session=\"a72d102a4b34caa12d7c57ab6556596c\", element=\"7016c3c2-02ba-48f9-8448-25b9d597526c\")>, <selenium.webdriver.remote.webelement.WebElement (session=\"a72d102a4b34caa12d7c57ab6556596c\", element=\"41949ab4-f96a-494e-80d7-004cde89a6ed\")>, <selenium.webdriver.remote.webelement.WebElement (session=\"a72d102a4b34caa12d7c57ab6556596c\", element=\"6a73eba5-803d-47ff-9991-26e4f094965b\")>, <selenium.webdriver.remote.webelement.WebElement (session=\"a72d102a4b34caa12d7c57ab6556596c\", element=\"5613520e-9a6b-48c4-8e5a-9379cf8b6c63\")>, <selenium.webdriver.remote.webelement.WebElement (session=\"a72d102a4b34caa12d7c57ab6556596c\", element=\"7c476b50-1e5a-4f8c-be86-1c6d2660d892\")>, <selenium.webdriver.remote.webelement.WebElement (session=\"a72d102a4b34caa12d7c57ab6556596c\", element=\"e4add141-8faa-4c48-9b8a-f379920f2bc9\")>, <selenium.webdriver.remote.webelement.WebElement (session=\"a72d102a4b34caa12d7c57ab6556596c\", element=\"be3a5c09-7630-40e0-97fc-d45a241b25cf\")>]\n"
     ]
    },
    {
     "name": "stderr",
     "output_type": "stream",
     "text": [
      "100%|██████████████████████████████████████████| 23/23 [00:04<00:00,  5.58it/s]\n",
      "  0%|                                                   | 0/10 [00:00<?, ?it/s]"
     ]
    },
    {
     "name": "stdout",
     "output_type": "stream",
     "text": [
      "처음 개수 : 23\n"
     ]
    },
    {
     "name": "stderr",
     "output_type": "stream",
     "text": [
      "\r",
      " 10%|████▎                                      | 1/10 [00:05<00:49,  5.52s/it]"
     ]
    },
    {
     "name": "stdout",
     "output_type": "stream",
     "text": [
      "새로운 개수 : 43\n",
      "이전의 개수와의 차이 : 20\n"
     ]
    },
    {
     "name": "stderr",
     "output_type": "stream",
     "text": [
      "\r",
      " 20%|████████▌                                  | 2/10 [00:11<00:45,  5.64s/it]"
     ]
    },
    {
     "name": "stdout",
     "output_type": "stream",
     "text": [
      "새로운 개수 : 63\n",
      "이전의 개수와의 차이 : 20\n",
      "새로운 개수 : 83\n"
     ]
    },
    {
     "name": "stderr",
     "output_type": "stream",
     "text": [
      "\r",
      " 30%|████████████▉                              | 3/10 [00:19<00:43,  6.28s/it]"
     ]
    },
    {
     "name": "stdout",
     "output_type": "stream",
     "text": [
      "이전의 개수와의 차이 : 20\n"
     ]
    },
    {
     "name": "stderr",
     "output_type": "stream",
     "text": [
      "\r",
      " 40%|█████████████████▏                         | 4/10 [00:25<00:38,  6.36s/it]"
     ]
    },
    {
     "name": "stdout",
     "output_type": "stream",
     "text": [
      "새로운 개수 : 103\n",
      "이전의 개수와의 차이 : 20\n"
     ]
    },
    {
     "name": "stderr",
     "output_type": "stream",
     "text": [
      "\r",
      " 50%|█████████████████████▌                     | 5/10 [00:32<00:32,  6.54s/it]"
     ]
    },
    {
     "name": "stdout",
     "output_type": "stream",
     "text": [
      "새로운 개수 : 123\n",
      "이전의 개수와의 차이 : 20\n"
     ]
    },
    {
     "name": "stderr",
     "output_type": "stream",
     "text": [
      "\r",
      " 60%|█████████████████████████▊                 | 6/10 [00:40<00:27,  6.77s/it]"
     ]
    },
    {
     "name": "stdout",
     "output_type": "stream",
     "text": [
      "새로운 개수 : 143\n",
      "이전의 개수와의 차이 : 20\n"
     ]
    },
    {
     "name": "stderr",
     "output_type": "stream",
     "text": [
      "\r",
      " 70%|██████████████████████████████             | 7/10 [00:47<00:21,  7.04s/it]"
     ]
    },
    {
     "name": "stdout",
     "output_type": "stream",
     "text": [
      "새로운 개수 : 163\n",
      "이전의 개수와의 차이 : 20\n"
     ]
    },
    {
     "name": "stderr",
     "output_type": "stream",
     "text": [
      "\r",
      " 80%|██████████████████████████████████▍        | 8/10 [00:57<00:15,  7.76s/it]"
     ]
    },
    {
     "name": "stdout",
     "output_type": "stream",
     "text": [
      "새로운 개수 : 183\n",
      "이전의 개수와의 차이 : 20\n"
     ]
    },
    {
     "name": "stderr",
     "output_type": "stream",
     "text": [
      "\r",
      " 90%|██████████████████████████████████████▋    | 9/10 [01:05<00:07,  7.95s/it]"
     ]
    },
    {
     "name": "stdout",
     "output_type": "stream",
     "text": [
      "새로운 개수 : 203\n",
      "이전의 개수와의 차이 : 20\n"
     ]
    },
    {
     "name": "stderr",
     "output_type": "stream",
     "text": [
      "100%|██████████████████████████████████████████| 10/10 [01:14<00:00,  7.44s/it]"
     ]
    },
    {
     "name": "stdout",
     "output_type": "stream",
     "text": [
      "새로운 개수 : 223\n",
      "이전의 개수와의 차이 : 20\n"
     ]
    },
    {
     "name": "stderr",
     "output_type": "stream",
     "text": [
      "\n"
     ]
    }
   ],
   "source": [
    "# 브라우저 실행\n",
    "options = Options()\n",
    "options.headless = True\n",
    "\n",
    "browser = webdriver.Chrome(\"C:/workspace/Text_analysis/chromedriver.exe\",options = options)\n",
    "# webdriver.Chrome 괄호 안에 크롬드라이버 exe파일 설치경로 넣어주세요~\n",
    "\n",
    "Sel_list= []\n",
    "rev_list= []\n",
    "kind_list = []\n",
    "\n",
    "\n",
    "try:\n",
    "    browser.get(\"https://m.place.naver.com/my/feed\") # 네이버플레이스(모바일웹페이지) 주소\n",
    "\n",
    "    time.sleep(3)\n",
    "    inputElement = browser.find_element_by_id('confirmAlert')\n",
    "    inputElement.click() \n",
    "    \n",
    "except:    \n",
    "    # A = browser.find_element_by_xpath('//*[@id=\"app-root\"]/div[3]/div/ul/li[1]/div[4]/div/div/div[1]/div[1]/button/span')\n",
    "    A = browser.find_elements_by_xpath('//*[@id=\"app-root\"]/div[3]/div/ul/li')\n",
    "    print(A)\n",
    "    # html = browser.page_source\n",
    "    # soup = BeautifulSoup(html,'lxml')\n",
    "  ### 처음 수집\n",
    "    pre_len = len(A)\n",
    "    for i in tqdm(range(len(A))):\n",
    "        try:\n",
    "            Sel_list.append(A[i].find_element_by_class_name('a3pydJY2be').find_element_by_class_name('B8JgXoFczU').text)\n",
    "            rev_list.append(A[i].find_element_by_class_name('_3iIrkeqyZp').find_element_by_tag_name('span').text)\n",
    "            kind_list.append(A[i].find_element_by_class_name('_2ezKlDhPy_').find_elements_by_tag_name('span')[0].text)\n",
    "\n",
    "        except:\n",
    "            pass\n",
    "\n",
    "    # 브라우저 스크롤 맨 아래로 내리기\n",
    "    browser.execute_script(\"window.scrollTo(0,document.body.scrollHeight)\")\n",
    "    time.sleep(2)\n",
    "    New_A = browser.find_elements_by_xpath('//*[@id=\"app-root\"]/div[3]/div/ul/li')\n",
    "    print(\"처음 개수 : {}\".format(pre_len))\n",
    "    \n",
    "    \n",
    "    for _ in tqdm(range(10)):\n",
    "    \n",
    "        \n",
    "        ### 3번째부터 수집\n",
    "        diff_num = len(New_A) - pre_len\n",
    "        diff_index = [-(i+1) for i in range(diff_num)]\n",
    "        \n",
    "        diff_index.sort()\n",
    "        # print(diff_index)\n",
    "        \n",
    "        for i in diff_index:\n",
    "            \n",
    "            try:\n",
    "                Sel_list.append(New_A[i].find_element_by_class_name('a3pydJY2be').find_element_by_class_name('B8JgXoFczU').text)\n",
    "                rev_list.append(New_A[i].find_element_by_class_name('_3iIrkeqyZp').find_element_by_tag_name('span').text)\n",
    "                kind_list.append(New_A[i].find_element_by_class_name('_2ezKlDhPy_').find_elements_by_tag_name('span')[0].text)\n",
    "                \n",
    "                \n",
    "#                 Sel_list.append(New_A[-(len(New_A) - pre_len):].find_element_by_class_name('a3pydJY2be').find_element_by_class_name('B8JgXoFczU').text)\n",
    "#                 rev_list.append(New_A[-(len(New_A) - pre_len):].find_element_by_class_name('_3iIrkeqyZp').find_element_by_tag_name('span').text)\n",
    "#                 kind_list.append(New_A[-(len(New_A) - pre_len):].find_element_by_class_name('_2ezKlDhPy_').find_elements_by_tag_name('span')[0].text)\n",
    "            except:\n",
    "                pass\n",
    "        \n",
    "        browser.execute_script(\"window.scrollTo(0,document.body.scrollHeight)\")\n",
    "        time.sleep(2)\n",
    "        # 이전 개수 정의\n",
    "        pre_len = len(New_A)\n",
    "        print(\"새로운 개수 : {}\".format(pre_len))\n",
    "        \n",
    "        New_A = browser.find_elements_by_xpath('//*[@id=\"app-root\"]/div[3]/div/ul/li')\n",
    "        print(\"이전의 개수와의 차이 : {}\".format(len(New_A)-pre_len))\n",
    "        \n",
    "       \n",
    "        \n",
    "    Data = pd.DataFrame(columns = ['Name','Kind','Rev'])\n",
    "    Data['Name'] = Sel_list\n",
    "    Data['Kind'] = kind_list\n",
    "    Data['Rev'] = rev_list"
   ]
  },
  {
   "cell_type": "code",
   "execution_count": 4,
   "metadata": {},
   "outputs": [
    {
     "data": {
      "text/html": [
       "<div>\n",
       "<style scoped>\n",
       "    .dataframe tbody tr th:only-of-type {\n",
       "        vertical-align: middle;\n",
       "    }\n",
       "\n",
       "    .dataframe tbody tr th {\n",
       "        vertical-align: top;\n",
       "    }\n",
       "\n",
       "    .dataframe thead th {\n",
       "        text-align: right;\n",
       "    }\n",
       "</style>\n",
       "<table border=\"1\" class=\"dataframe\">\n",
       "  <thead>\n",
       "    <tr style=\"text-align: right;\">\n",
       "      <th></th>\n",
       "      <th>Name</th>\n",
       "      <th>Kind</th>\n",
       "      <th>Rev</th>\n",
       "    </tr>\n",
       "  </thead>\n",
       "  <tbody>\n",
       "    <tr>\n",
       "      <th>0</th>\n",
       "      <td>파운드</td>\n",
       "      <td>양식</td>\n",
       "      <td>음식도 맛있지만 분위기도 넘 좋아요!!\\n미국안가봤지만 이게 미국서타일 음식이군요\\...</td>\n",
       "    </tr>\n",
       "    <tr>\n",
       "      <th>1</th>\n",
       "      <td>미야갤러리카페</td>\n",
       "      <td>카페,디저트</td>\n",
       "      <td>재미있었어요! 색칠놀이가 얼마만인지 모르겠네용 ㅎㅎ 매장도 깔끔하구, 친절하셔서 좋...</td>\n",
       "    </tr>\n",
       "    <tr>\n",
       "      <th>2</th>\n",
       "      <td>카페 윤잇</td>\n",
       "      <td>카페,디저트</td>\n",
       "      <td>브라운라떼 맛있어용:)♥</td>\n",
       "    </tr>\n",
       "    <tr>\n",
       "      <th>3</th>\n",
       "      <td>갓덴스시 신사점</td>\n",
       "      <td>갓덴스시</td>\n",
       "      <td>스시맛집! 연어랑😍 우동도 넘 마싯어요ㅎㅎ 소바는...드시지마세욤ㅠㅜ</td>\n",
       "    </tr>\n",
       "    <tr>\n",
       "      <th>4</th>\n",
       "      <td>미야갤러리카페</td>\n",
       "      <td>카페,디저트</td>\n",
       "      <td>음료도 맛있고 분위기도 좋아요!</td>\n",
       "    </tr>\n",
       "    <tr>\n",
       "      <th>...</th>\n",
       "      <td>...</td>\n",
       "      <td>...</td>\n",
       "      <td>...</td>\n",
       "    </tr>\n",
       "    <tr>\n",
       "      <th>205</th>\n",
       "      <td>마히나 비건 테이블</td>\n",
       "      <td>이탈리아음식</td>\n",
       "      <td>가로수길 식당이어서 어쩔 수 없는 주차 문제 빼고는(근처 신구초 공영주차장이 만차인...</td>\n",
       "    </tr>\n",
       "    <tr>\n",
       "      <th>206</th>\n",
       "      <td>Magpie&amp;Tiger 신사티룸</td>\n",
       "      <td>차</td>\n",
       "      <td>공간도 차맛도 다 좋았어요! 디저트가 단품 판매가 아니라 그게 좀 아쉬웠어요 ㅜ</td>\n",
       "    </tr>\n",
       "    <tr>\n",
       "      <th>207</th>\n",
       "      <td>카페 그라쎄</td>\n",
       "      <td>이탈리아음식</td>\n",
       "      <td>아보카도 에그 베네딕트 수란, 파프리카 그리고 아보카도가 바케트에 새콤달콤 하니 맛...</td>\n",
       "    </tr>\n",
       "    <tr>\n",
       "      <th>208</th>\n",
       "      <td>에스토</td>\n",
       "      <td>양식</td>\n",
       "      <td>퓨전 양식 좋았어요. 테이블보단 바 자리 추천 드립니다.</td>\n",
       "    </tr>\n",
       "    <tr>\n",
       "      <th>209</th>\n",
       "      <td>메리고라운드스테이크</td>\n",
       "      <td>스파게티,파스타전문</td>\n",
       "      <td>킹콩스테이크와 사천 파스타 완전 최고에요</td>\n",
       "    </tr>\n",
       "  </tbody>\n",
       "</table>\n",
       "<p>210 rows × 3 columns</p>\n",
       "</div>"
      ],
      "text/plain": [
       "                  Name        Kind  \\\n",
       "0                  파운드          양식   \n",
       "1              미야갤러리카페      카페,디저트   \n",
       "2                카페 윤잇      카페,디저트   \n",
       "3             갓덴스시 신사점        갓덴스시   \n",
       "4              미야갤러리카페      카페,디저트   \n",
       "..                 ...         ...   \n",
       "205         마히나 비건 테이블      이탈리아음식   \n",
       "206  Magpie&Tiger 신사티룸           차   \n",
       "207             카페 그라쎄      이탈리아음식   \n",
       "208                에스토          양식   \n",
       "209         메리고라운드스테이크  스파게티,파스타전문   \n",
       "\n",
       "                                                   Rev  \n",
       "0    음식도 맛있지만 분위기도 넘 좋아요!!\\n미국안가봤지만 이게 미국서타일 음식이군요\\...  \n",
       "1    재미있었어요! 색칠놀이가 얼마만인지 모르겠네용 ㅎㅎ 매장도 깔끔하구, 친절하셔서 좋...  \n",
       "2                                        브라운라떼 맛있어용:)♥  \n",
       "3               스시맛집! 연어랑😍 우동도 넘 마싯어요ㅎㅎ 소바는...드시지마세욤ㅠㅜ  \n",
       "4                                    음료도 맛있고 분위기도 좋아요!  \n",
       "..                                                 ...  \n",
       "205  가로수길 식당이어서 어쩔 수 없는 주차 문제 빼고는(근처 신구초 공영주차장이 만차인...  \n",
       "206       공간도 차맛도 다 좋았어요! 디저트가 단품 판매가 아니라 그게 좀 아쉬웠어요 ㅜ  \n",
       "207  아보카도 에그 베네딕트 수란, 파프리카 그리고 아보카도가 바케트에 새콤달콤 하니 맛...  \n",
       "208                    퓨전 양식 좋았어요. 테이블보단 바 자리 추천 드립니다.  \n",
       "209                             킹콩스테이크와 사천 파스타 완전 최고에요  \n",
       "\n",
       "[210 rows x 3 columns]"
      ]
     },
     "execution_count": 4,
     "metadata": {},
     "output_type": "execute_result"
    }
   ],
   "source": [
    "Data"
   ]
  },
  {
   "cell_type": "code",
   "execution_count": 5,
   "metadata": {},
   "outputs": [
    {
     "data": {
      "text/html": [
       "<div>\n",
       "<style scoped>\n",
       "    .dataframe tbody tr th:only-of-type {\n",
       "        vertical-align: middle;\n",
       "    }\n",
       "\n",
       "    .dataframe tbody tr th {\n",
       "        vertical-align: top;\n",
       "    }\n",
       "\n",
       "    .dataframe thead th {\n",
       "        text-align: right;\n",
       "    }\n",
       "</style>\n",
       "<table border=\"1\" class=\"dataframe\">\n",
       "  <thead>\n",
       "    <tr style=\"text-align: right;\">\n",
       "      <th></th>\n",
       "      <th>Name</th>\n",
       "      <th>Kind</th>\n",
       "      <th>Rev</th>\n",
       "    </tr>\n",
       "  </thead>\n",
       "  <tbody>\n",
       "    <tr>\n",
       "      <th>0</th>\n",
       "      <td>파운드</td>\n",
       "      <td>양식</td>\n",
       "      <td>음식도 맛있지만 분위기도 넘 좋아요!!\\n미국안가봤지만 이게 미국서타일 음식이군요\\...</td>\n",
       "    </tr>\n",
       "    <tr>\n",
       "      <th>1</th>\n",
       "      <td>미야갤러리카페</td>\n",
       "      <td>카페,디저트</td>\n",
       "      <td>재미있었어요! 색칠놀이가 얼마만인지 모르겠네용 ㅎㅎ 매장도 깔끔하구, 친절하셔서 좋...</td>\n",
       "    </tr>\n",
       "    <tr>\n",
       "      <th>2</th>\n",
       "      <td>카페 윤잇</td>\n",
       "      <td>카페,디저트</td>\n",
       "      <td>브라운라떼 맛있어용:)♥</td>\n",
       "    </tr>\n",
       "    <tr>\n",
       "      <th>3</th>\n",
       "      <td>갓덴스시 신사점</td>\n",
       "      <td>갓덴스시</td>\n",
       "      <td>스시맛집! 연어랑😍 우동도 넘 마싯어요ㅎㅎ 소바는...드시지마세욤ㅠㅜ</td>\n",
       "    </tr>\n",
       "    <tr>\n",
       "      <th>4</th>\n",
       "      <td>미야갤러리카페</td>\n",
       "      <td>카페,디저트</td>\n",
       "      <td>음료도 맛있고 분위기도 좋아요!</td>\n",
       "    </tr>\n",
       "    <tr>\n",
       "      <th>...</th>\n",
       "      <td>...</td>\n",
       "      <td>...</td>\n",
       "      <td>...</td>\n",
       "    </tr>\n",
       "    <tr>\n",
       "      <th>205</th>\n",
       "      <td>마히나 비건 테이블</td>\n",
       "      <td>이탈리아음식</td>\n",
       "      <td>가로수길 식당이어서 어쩔 수 없는 주차 문제 빼고는(근처 신구초 공영주차장이 만차인...</td>\n",
       "    </tr>\n",
       "    <tr>\n",
       "      <th>206</th>\n",
       "      <td>Magpie&amp;Tiger 신사티룸</td>\n",
       "      <td>차</td>\n",
       "      <td>공간도 차맛도 다 좋았어요! 디저트가 단품 판매가 아니라 그게 좀 아쉬웠어요 ㅜ</td>\n",
       "    </tr>\n",
       "    <tr>\n",
       "      <th>207</th>\n",
       "      <td>카페 그라쎄</td>\n",
       "      <td>이탈리아음식</td>\n",
       "      <td>아보카도 에그 베네딕트 수란, 파프리카 그리고 아보카도가 바케트에 새콤달콤 하니 맛...</td>\n",
       "    </tr>\n",
       "    <tr>\n",
       "      <th>208</th>\n",
       "      <td>에스토</td>\n",
       "      <td>양식</td>\n",
       "      <td>퓨전 양식 좋았어요. 테이블보단 바 자리 추천 드립니다.</td>\n",
       "    </tr>\n",
       "    <tr>\n",
       "      <th>209</th>\n",
       "      <td>메리고라운드스테이크</td>\n",
       "      <td>스파게티,파스타전문</td>\n",
       "      <td>킹콩스테이크와 사천 파스타 완전 최고에요</td>\n",
       "    </tr>\n",
       "  </tbody>\n",
       "</table>\n",
       "<p>210 rows × 3 columns</p>\n",
       "</div>"
      ],
      "text/plain": [
       "                  Name        Kind  \\\n",
       "0                  파운드          양식   \n",
       "1              미야갤러리카페      카페,디저트   \n",
       "2                카페 윤잇      카페,디저트   \n",
       "3             갓덴스시 신사점        갓덴스시   \n",
       "4              미야갤러리카페      카페,디저트   \n",
       "..                 ...         ...   \n",
       "205         마히나 비건 테이블      이탈리아음식   \n",
       "206  Magpie&Tiger 신사티룸           차   \n",
       "207             카페 그라쎄      이탈리아음식   \n",
       "208                에스토          양식   \n",
       "209         메리고라운드스테이크  스파게티,파스타전문   \n",
       "\n",
       "                                                   Rev  \n",
       "0    음식도 맛있지만 분위기도 넘 좋아요!!\\n미국안가봤지만 이게 미국서타일 음식이군요\\...  \n",
       "1    재미있었어요! 색칠놀이가 얼마만인지 모르겠네용 ㅎㅎ 매장도 깔끔하구, 친절하셔서 좋...  \n",
       "2                                        브라운라떼 맛있어용:)♥  \n",
       "3               스시맛집! 연어랑😍 우동도 넘 마싯어요ㅎㅎ 소바는...드시지마세욤ㅠㅜ  \n",
       "4                                    음료도 맛있고 분위기도 좋아요!  \n",
       "..                                                 ...  \n",
       "205  가로수길 식당이어서 어쩔 수 없는 주차 문제 빼고는(근처 신구초 공영주차장이 만차인...  \n",
       "206       공간도 차맛도 다 좋았어요! 디저트가 단품 판매가 아니라 그게 좀 아쉬웠어요 ㅜ  \n",
       "207  아보카도 에그 베네딕트 수란, 파프리카 그리고 아보카도가 바케트에 새콤달콤 하니 맛...  \n",
       "208                    퓨전 양식 좋았어요. 테이블보단 바 자리 추천 드립니다.  \n",
       "209                             킹콩스테이크와 사천 파스타 완전 최고에요  \n",
       "\n",
       "[210 rows x 3 columns]"
      ]
     },
     "execution_count": 5,
     "metadata": {},
     "output_type": "execute_result"
    }
   ],
   "source": [
    "test = Data.copy()\n",
    "test"
   ]
  },
  {
   "cell_type": "code",
   "execution_count": 9,
   "metadata": {},
   "outputs": [
    {
     "name": "stderr",
     "output_type": "stream",
     "text": [
      "C:\\Anaconda\\lib\\site-packages\\ipykernel_launcher.py:2: FutureWarning: The default value of regex will change from True to False in a future version.\n",
      "  \n"
     ]
    },
    {
     "data": {
      "text/plain": [
       "0      음식도 맛있지만 분위기도 넘 좋아요!!\\n미국안가봤지만 이게 미국서타일 음식이군요\\...\n",
       "1      재미있었어요! 색칠놀이가 얼마만인지 모르겠네용 ㅎㅎ 매장도 깔끔하구, 친절하셔서 좋...\n",
       "2                                          브라운라떼 맛있어용:)♥\n",
       "3                 스시맛집! 연어랑😍 우동도 넘 마싯어요ㅎㅎ 소바는...드시지마세욤ㅠㅜ\n",
       "4                                      음료도 맛있고 분위기도 좋아요!\n",
       "                             ...                        \n",
       "205    가로수길 식당이어서 어쩔 수 없는 주차 문제 빼고는(근처 신구초 공영주차장이 만차인...\n",
       "206         공간도 차맛도 다 좋았어요! 디저트가 단품 판매가 아니라 그게 좀 아쉬웠어요 ㅜ\n",
       "207    아보카도 에그 베네딕트 수란, 파프리카 그리고 아보카도가 바케트에 새콤달콤 하니 맛...\n",
       "208                      퓨전 양식 좋았어요. 테이블보단 바 자리 추천 드립니다.\n",
       "209                               킹콩스테이크와 사천 파스타 완전 최고에요\n",
       "Name: Rev, Length: 210, dtype: object"
      ]
     },
     "execution_count": 9,
     "metadata": {},
     "output_type": "execute_result"
    }
   ],
   "source": [
    "# 영어 자음제거.\n",
    "test.Rev = test.Rev.str.replace('[a-zA-Z]','')\n",
    "test.Rev"
   ]
  },
  {
   "cell_type": "code",
   "execution_count": 20,
   "metadata": {},
   "outputs": [
    {
     "name": "stderr",
     "output_type": "stream",
     "text": [
      "C:\\Anaconda\\lib\\site-packages\\ipykernel_launcher.py:1: FutureWarning: The default value of regex will change from True to False in a future version.\n",
      "  \"\"\"Entry point for launching an IPython kernel.\n"
     ]
    }
   ],
   "source": [
    "test.Rev = test.Rev.str.replace('[-=+,#/\\?:^$.@*\\\"※~&%ㆍ!』\\\\‘|\\(\\)\\[\\]\\<\\>`\\'…》😍ㅏ-ㅣ\\n]','')"
   ]
  },
  {
   "cell_type": "code",
   "execution_count": 21,
   "metadata": {},
   "outputs": [
    {
     "data": {
      "text/plain": [
       "0      음식도 맛있지만 분위기도 넘 좋아요미국안가봤지만 이게 미국서타일 음식이군요직원들도 ...\n",
       "1        재미있었어요 색칠놀이가 얼마만인지 모르겠네용 ㅎㅎ 매장도 깔끔하구 친절하셔서 좋았어요\n",
       "2                                            브라운라떼 맛있어용♥\n",
       "3                        스시맛집 연어랑 우동도 넘 마싯어요ㅎㅎ 소바는드시지마세욤\n",
       "4                                       음료도 맛있고 분위기도 좋아요\n",
       "                             ...                        \n",
       "205    가로수길 식당이어서 어쩔 수 없는 주차 문제 빼고는근처 신구초 공영주차장이 만차인 ...\n",
       "206           공간도 차맛도 다 좋았어요 디저트가 단품 판매가 아니라 그게 좀 아쉬웠어요 \n",
       "207    아보카도 에그 베네딕트 수란 파프리카 그리고 아보카도가 바케트에 새콤달콤 하니 맛있...\n",
       "208                        퓨전 양식 좋았어요 테이블보단 바 자리 추천 드립니다\n",
       "209                               킹콩스테이크와 사천 파스타 완전 최고에요\n",
       "Name: Rev, Length: 210, dtype: object"
      ]
     },
     "execution_count": 21,
     "metadata": {},
     "output_type": "execute_result"
    }
   ],
   "source": [
    "test.Rev"
   ]
  },
  {
   "cell_type": "code",
   "execution_count": 30,
   "metadata": {},
   "outputs": [],
   "source": [
    "import nltk"
   ]
  },
  {
   "cell_type": "code",
   "execution_count": 24,
   "metadata": {},
   "outputs": [],
   "source": [
    "from pykospacing import Spacing\n",
    "from konlpy.tag import Mecab\n",
    "mecab = Mecab(dicpath = r\"C:\\mecab\\mecab-ko-dic\")"
   ]
  },
  {
   "cell_type": "code",
   "execution_count": 29,
   "metadata": {},
   "outputs": [
    {
     "data": {
      "text/plain": [
       "0      음식도 맛있지만 분위기도 넘 좋아요 미국 안 가봤지만 이게 미국서 타일 음식이군 요...\n",
       "1      재미있었어요 색 칠놀이가 얼마만인지 모르겠네 용 ㅎㅎ 매장도 깔끔하구 친절하셔서 좋았어요\n",
       "2                                          브라운 라떼 맛있어 용♥\n",
       "3                    스시 맛집 연어랑 우동도 넘 마싯어요 ㅎㅎ 소바는 드시지 마세욤\n",
       "4                                       음료도 맛있고 분위기도 좋아요\n",
       "                             ...                        \n",
       "205    가로수길 식당이어서 어쩔 수 없는 주차 문제 빼고는 근처 신구 초 공영주차장이 만 ...\n",
       "206            공간도 차맛도 다 좋았어요 디저트가 단품 판매가 아니라 그게 좀 아쉬웠어요\n",
       "207    아보카도 에 그 베네딕트 수란 파프리카 그리고 아보카도가 바케트에 새콤달콤 하니 맛...\n",
       "208                        퓨전 양식 좋았어요 테이블보단 바 자리 추천 드립니다\n",
       "209                               킹콩스테이크와 사천 파스타 완전 최고에요\n",
       "Name: Rev, Length: 210, dtype: object"
      ]
     },
     "execution_count": 29,
     "metadata": {},
     "output_type": "execute_result"
    }
   ],
   "source": [
    "spacing = Spacing()\n",
    "test.Rev = test.Rev.apply(lambda x : spacing(x))\n",
    "test.Rev"
   ]
  },
  {
   "cell_type": "code",
   "execution_count": 33,
   "metadata": {},
   "outputs": [],
   "source": [
    "from konlpy.tag import Okt"
   ]
  },
  {
   "cell_type": "code",
   "execution_count": 34,
   "metadata": {},
   "outputs": [],
   "source": [
    "okt = Okt()"
   ]
  },
  {
   "cell_type": "code",
   "execution_count": 35,
   "metadata": {},
   "outputs": [
    {
     "data": {
      "text/plain": [
       "0      [음식, 도, 맛있지만, 분위기, 도, 넘, 좋아요, 미국, 안, 가봤지만, 이, ...\n",
       "1      [재미있었어요, 색, 칠, 놀이, 가, 얼마, 만, 인지, 모르겠네, 용, ㅎㅎ, ...\n",
       "2                                   [브라운, 라떼, 맛있어, 용, ♥]\n",
       "3      [스시, 맛집, 연어, 랑, 우동, 도, 넘, 마싯어요, ㅎㅎ, 소바, 는, 드시지...\n",
       "4                              [음료, 도, 맛있고, 분위기, 도, 좋아요]\n",
       "                             ...                        \n",
       "205    [가로수길, 식당, 이어서, 어쩔, 수, 없는, 주차, 문제, 빼고는, 근처, 신구...\n",
       "206    [공간, 도, 차맛, 도, 다, 좋았어요, 디저트, 가, 단, 품, 판매, 가, 아...\n",
       "207    [아보카도, 에, 그, 베네딕트, 수란, 파프리카, 그리고, 아보카도, 가, 바케트...\n",
       "208             [퓨전, 양식, 좋았어요, 테이블, 보단, 바, 자리, 추천, 드립니다]\n",
       "209                   [킹콩, 스테이크, 와, 사천, 파스타, 완전, 최고, 에요]\n",
       "Name: Rev, Length: 210, dtype: object"
      ]
     },
     "execution_count": 35,
     "metadata": {},
     "output_type": "execute_result"
    }
   ],
   "source": [
    "test.Rev.apply(lambda x: okt.morphs(x))"
   ]
  },
  {
   "cell_type": "code",
   "execution_count": 31,
   "metadata": {},
   "outputs": [
    {
     "data": {
      "text/plain": [
       "0      [음식, 도, 맛있, 지만, 분위기, 도, 넘, 좋, 아요, 미국, 안, 가, 봤,...\n",
       "1      [재미있, 었, 어요, 색, 칠, 놀이, 가, 얼마, 만, 인지, 모르, 겠, 네,...\n",
       "2                                 [브라운, 라떼, 맛있, 어, 용, ♥]\n",
       "3      [스, 시, 맛집, 연어, 랑, 우동, 도, 넘, 마, 싯, 어요, ㅎㅎ, 소바, ...\n",
       "4                          [음료, 도, 맛있, 고, 분위기, 도, 좋, 아요]\n",
       "                             ...                        \n",
       "205    [가로수길, 식당, 이, 어서, 어쩔, 수, 없, 는, 주차, 문제, 빼, 고, 는...\n",
       "206    [공간, 도, 차, 맛, 도, 다, 좋, 았, 어요, 디저트, 가, 단, 품, 판매...\n",
       "207    [아보카도, 에, 그, 베네딕트, 수란, 파프리카, 그리고, 아보카도, 가, 바케,...\n",
       "208         [퓨전, 양식, 좋, 았, 어요, 테이블, 보단, 바, 자리, 추천, 드립니다]\n",
       "209               [킹콩, 스테이크, 와, 사, 천, 파스타, 완전, 최고, 에, 요]\n",
       "Name: Rev, Length: 210, dtype: object"
      ]
     },
     "execution_count": 31,
     "metadata": {},
     "output_type": "execute_result"
    }
   ],
   "source": [
    "test.Rev.apply(lambda x : mecab.morphs(x))"
   ]
  },
  {
   "cell_type": "markdown",
   "metadata": {},
   "source": [
    "Okt, mecab 비교 시 Okt가 더 적절하다고 판단."
   ]
  },
  {
   "cell_type": "markdown",
   "metadata": {},
   "source": [
    "##### 감성사전 비교"
   ]
  },
  {
   "cell_type": "code",
   "execution_count": 36,
   "metadata": {},
   "outputs": [],
   "source": [
    "service_good_feature = {'서비스':['좋','친절','괜찮','최고','빠르','짱','훌륭','추천','감사','구수','최상','대박',\n",
    "                               '훈훈','특별','개이득','최고','만족','세련','최고','감동'],\n",
    "                        '사장':['친절','스윗','센스'],\n",
    "                        '알바':['친절','스윗','센스'],\n",
    "                        '직원': ['친절','스윗','센스'],\n",
    "                        '일을':['잘','빠르게'],\n",
    "                        '일도':['잘','빠르게'],\n",
    "                        '서빙':['잘','빠르게']}\n",
    "\n",
    "service_bad_feature = {'서비스': ['아쉽','최악','나쁘','느리','빡치','비추','별로','그냥','낙제','쏘다쏘다','엉망','실망','불친절','문제','컴플레인',\n",
    "                               '거지','그닥','그다지','구려','불편','엉성','헬','개판'],\n",
    "                       '알바':['불친절','똑바로','재수'],\n",
    "                       '사장':['불친절','똑바로','재수'],\n",
    "                       '직원':['불친절','똑바로','재수'],\n",
    "                      '일을':['못','느리게','답답'],\n",
    "                      '일도':['못','느리게', '천천히'],\n",
    "                      '서빙':['못','느리게','천천히','답답']}\n",
    "\n",
    "taste_good_feature = {'간':['맞','적절','딱','환상','담백'],\n",
    "                      '음식':['깔끔'],\n",
    "                      '맛':['있','좋','나다','최고']}\n",
    "\n",
    "taste_bad_feature = {'간':['세','쎄','강하다','별로'],\n",
    "                     '음식':['별로','쏘다쏘다','최악'],\n",
    "                     '맛':['별로','최악']}\n",
    "\n",
    "taste_good_emotion = ['고소','부드럽','신선','촉촉','싱싱','정갈','최고']\n",
    "\n",
    "taste_bad_emotion = ['싱겁','느끼다하다','짜다','느끼다','짜다','딱딱하다','차갑다']\n",
    "\n",
    "cost_good_feature = {'가격': ['괜찮','착하다','저렴','적당','싸다','좋다','합리적','훌륭','최고','만족','마음','든든','알맞다',\n",
    "                            '무난','괜춘','최상','최상','굿','엄지','낮'],\n",
    "                     '가성비':['괜찮','착하다','저렴','적당','싸다','좋다','합리적','훌륭','최고','만족','마음','든든','알맞다',\n",
    "                            '무난','괜춘','최상','최상','굿','엄지'],\n",
    "                     '양':['많','적당','푸짐하고','괜찮다','넉넉','충분','든든']\n",
    "                     }\n",
    "\n",
    "cost_bad_feature ={'가격': ['비싸','있다','나쁘','사악','비효율','높다','부담','아쉽','쏘다쏘다','별로','그닥','그다지','쎄','ㅎㄷㄷ','높','거품'],\n",
    "                   '가성비':['별로'],\n",
    "                   '양':['적다','작다','아쉽','적다','다소','별로'],\n",
    "                   }\n",
    "\n",
    "atmosphere_good_feature = {'분위기': ['좋','괜찮','조용','깔끔','적당','깡패','굉장','아담','완벽','아기자기','고급','최고','세련','만족','아늑','훌륭','예쁘','이쁘','짱',\n",
    "                                   '심쿵','따뜻','깨끗','독특','매력','모던','취향저격','맘','마음','클래식','아름','인상적','귀엽','포근'], \n",
    "                           '인테리어': ['좋','괜찮','조용','깔끔','적당','깡패','굉장','아담','완벽','아기자기','고급','최고','세련','만족','아늑','훌륭','예쁘','이쁘','짱',\n",
    "                                    '심쿵','따뜻','깨끗','독특','매력','모던','취향저격','맘','마음','클래식','아름','인상적','귀엽','포근']}\n",
    "\n",
    "atmosphere_bad_feature = {'분위기': ['나쁘다','바쁘다','어수선하다','이상하다','촌스럽다','별로','부담스럽다','시끄럽','복잡' ],\n",
    "                          '인테리어':[]}\n",
    "\n",
    "visit_good_feature = {'의사':['있다','충만','백프로','백프롭','많','만땅','마구','그득','만점','넘침'],\n",
    "                      '다시':['가다','오다','방문','찾다','가보다','한번','갈다','찾아가다','가야지','갈거다','방문하다보고',\n",
    "                            '생각나다','방문한다면','와보고','재방문','접하다','간다면','갈다때가','먹다고프다','방문한다임','오자고','가기로','갈다생각이다','가면'],\n",
    "                      '굳이':[]}\n",
    "\n",
    "visit_bad_feature = {'의사':['글쎄'],\n",
    "                     '굳이':['다시','많이','여기까지','줄서서','찾아','시키다','가다','찾다','여기','기다리다','줄을','사먹'],\n",
    "                     '다시':[]}\n",
    "\n",
    "negative_word_emotion = ['안','않','못','없','아닌','아니']"
   ]
  },
  {
   "cell_type": "code",
   "execution_count": null,
   "metadata": {},
   "outputs": [],
   "source": []
  }
 ],
 "metadata": {
  "kernelspec": {
   "display_name": "Python 3",
   "language": "python",
   "name": "python3"
  },
  "language_info": {
   "codemirror_mode": {
    "name": "ipython",
    "version": 3
   },
   "file_extension": ".py",
   "mimetype": "text/x-python",
   "name": "python",
   "nbconvert_exporter": "python",
   "pygments_lexer": "ipython3",
   "version": "3.7.4"
  }
 },
 "nbformat": 4,
 "nbformat_minor": 2
}
