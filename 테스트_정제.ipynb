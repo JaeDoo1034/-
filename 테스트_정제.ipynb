{
  "nbformat": 4,
  "nbformat_minor": 0,
  "metadata": {
    "colab": {
      "name": "테스트 정제",
      "provenance": [],
      "authorship_tag": "ABX9TyMjRZ/8BESMdxK3Tx8ROQEf",
      "include_colab_link": true
    },
    "kernelspec": {
      "name": "python3",
      "display_name": "Python 3"
    },
    "language_info": {
      "name": "python"
    }
  },
  "cells": [
    {
      "cell_type": "markdown",
      "metadata": {
        "id": "view-in-github",
        "colab_type": "text"
      },
      "source": [
        "<a href=\"https://colab.research.google.com/github/JaeDoo1034/-/blob/main/%ED%85%8C%EC%8A%A4%ED%8A%B8_%EC%A0%95%EC%A0%9C.ipynb\" target=\"_parent\"><img src=\"https://colab.research.google.com/assets/colab-badge.svg\" alt=\"Open In Colab\"/></a>"
      ]
    },
    {
      "cell_type": "code",
      "metadata": {
        "colab": {
          "base_uri": "https://localhost:8080/"
        },
        "id": "zW_hso5SQuOy",
        "outputId": "e59b6447-9274-41c0-e313-6f74af13a02b"
      },
      "source": [
        "from google.colab import drive\n",
        "drive.mount('/content/drive')"
      ],
      "execution_count": 1,
      "outputs": [
        {
          "output_type": "stream",
          "text": [
            "Mounted at /content/drive\n"
          ],
          "name": "stdout"
        }
      ]
    },
    {
      "cell_type": "code",
      "metadata": {
        "id": "Zu2FDVPpQ6gr"
      },
      "source": [
        "!unzip -uq \"/content/drive/MyDrive/Str/KakaoTalk_Chats_2021-07-05_19.34.27_-977241817.zip\" -d \"/content/drive/MyDrive/Str/\""
      ],
      "execution_count": 3,
      "outputs": []
    },
    {
      "cell_type": "code",
      "metadata": {
        "id": "eiavE_jadWY9"
      },
      "source": [
        "with open(\"/content/drive/MyDrive/Str/KakaoTalk_Chats_2021-07-05_19.34.27_-977241817/KakaoTalkChats.txt\",'r') as f:\n",
        "   data = f.readlines()"
      ],
      "execution_count": 79,
      "outputs": []
    },
    {
      "cell_type": "code",
      "metadata": {
        "id": "ZlSneNx8la0i"
      },
      "source": [
        "import pandas as pd\n",
        "import numpy as np\n",
        "import re"
      ],
      "execution_count": 135,
      "outputs": []
    },
    {
      "cell_type": "code",
      "metadata": {
        "colab": {
          "base_uri": "https://localhost:8080/"
        },
        "id": "lp901ff7eGZi",
        "outputId": "53ef61aa-2bb4-4476-9cb5-8d5cdf4c67e6"
      },
      "source": [
        "start_data = data[8:]\n",
        "start_data"
      ],
      "execution_count": 80,
      "outputs": [
        {
          "output_type": "execute_result",
          "data": {
            "text/plain": [
              "['2021년 7월 5일 오전 9:43, 박상훈 : 8c2b19bbac2e4e1722291ff1509edd4735d44d04f9b84c4b650aa95ac672bc41.jpg\\n',\n",
              " '2021년 7월 5일 오전 9:43, 박상훈 : 결함1. 앱기동시 테스트 문구 출력\\n',\n",
              " '2021년 7월 5일 오전 9:43, 박상훈 : 841cdaa95191d28b9394842ac62455410aceb3b410916249205973f9f85a8f0b.jpg\\n',\n",
              " '2021년 7월 5일 오전 9:44, 박상훈 : 결함2. 웰컴페이지 화면출력시 수차례 깜박거림 제거 필요\\n',\n",
              " '2021년 7월 5일 오전 9:49, 박상훈 : (공지안내)\\n',\n",
              " '비대면채널부, 전자금융팀 통합테스트 실시\\n',\n",
              " '기간 : 7월5일~7월16일\\n',\n",
              " '테스트가이드는 사전 배포하였으니 적극 참여 요청드립니다.\\n',\n",
              " '2021년 7월 5일 오전 10:16, 송규성 : ef6bd3443d90d35443fe73206f4da8a9561beba9b3d30c213b74e33485a72eeb.jpg\\n',\n",
              " '2021년 7월 5일 오전 10:16, 박상훈 : c1ce056729471dddf0c45e4ca97bdf6698e8aa67733ad24c4989efe6ef58215a.jpg\\n',\n",
              " '2021년 7월 5일 오전 10:16, 송규성 : 다른로그인 방식 선택시 스토리보드상에 현재 로그인방식 제외하고 표시 하도록 되어 있는데. 제거 안되고 나옴.\\n',\n",
              " '2021년 7월 5일 오전 10:17, 송규성 : 송규성 결함 1\\n',\n",
              " '2021년 7월 5일 오전 10:17, 송규성 : 송규성 결함 1\\n',\n",
              " '2021년 7월 5일 오전 10:18, 박상훈 : 결함3. 뒤로가기 누르면 화면종료 안됨\\n',\n",
              " '2021년 7월 5일 오전 10:21, 박상훈 : (공지사항)\\n',\n",
              " '화면오류 업로드 후 해당 화면에 답장으로 결함번호와 내용을 기술해 주세요~\\n',\n",
              " '2021년 7월 5일 오전 11:04, 이해승 : 이체 스토리보트 14page\\n',\n",
              " '예약이체 및 cms를 눌렀을경우 그대로 있음\\n',\n",
              " '2021년 7월 5일 오전 11:15, 이해승 : 이체스토리보드 16page\\n',\n",
              " '금액 입력 키페드 100만원이 없네요..\\n',\n",
              " '2021년 7월 5일 오전 11:19, 이해승 : 이체스토리보드 17page\\n',\n",
              " '통장표기설정 설정핶는데 노출이 안돼요\\n',\n",
              " '2021년 7월 5일 오전 11:25, 이해승 : 삭제된 메시지입니다.\\n',\n",
              " '2021년 7월 5일 오전 11:28, 이해승 : 이체금액 최초입력은 8자리..\\n',\n",
              " '수정입력은 7자리까지 입력됨\\n',\n",
              " '2021년 7월 5일 오전 11:30, 이해승 : 송금금액 입력이 아무튼 이상함.\\n',\n",
              " '2021년 7월 5일 오전 11:57, 이해승 : 키페드(금액,otp)입력시 키페드 이외의 영역 터치시 키페드가 사라짐..무척 당황스러움.물론 금액출력영역을 누르면 다시 나타남..그러나 이것을 찾을수 있는 사람이 있을까?\\n',\n",
              " '2021년 7월 5일 오후 12:23, 송규성 : d33678bd240f272496d61df143d994ea2beca63d5f6204fecda775df6c26f82c.jpg\\n',\n",
              " '2021년 7월 5일 오후 12:24, 송규성 : 송규성 결함 2\\n',\n",
              " '내용 바뀜\\n',\n",
              " '2021년 7월 5일 오후 12:25, 송규성 : 송규성 결함 2 내용 바뀜\\n',\n",
              " '2021년 7월 5일 오후 12:27, 송규성 : 날짜는 인증서유효기간시작일자임. 유효기간 종료일자로 표시되어야함.\\n',\n",
              " '2021년 7월 5일 오후 12:28, 송규성 : 인증서 내보내기 : 인증서 비밀번호 입력하고 동작 안함.\\n',\n",
              " '2021년 7월 5일 오후 12:29, 송규성 : 5df1c17ddd2c0db4a1398955662d5a4308e0f1ca1fc1779bf8947baf5f645e9d.jpg\\n',\n",
              " '2021년 7월 5일 오후 12:30, 송규성 : 송규성 결함 3\\n',\n",
              " '인증서 내보내기 인증서 비밀번호 입력하고 동작 없어서 로그인 할려고 했는데 인증서 폐기됨.\\n',\n",
              " '2021년 7월 5일 오후 12:31, 송규성 : 1d68a7a7bb86a88e085b6eec584327f417bf0505d436a9015234f75def9ed7fc.jpg\\n',\n",
              " '2021년 7월 5일 오후 12:32, 송규성 : 송규성 결함 4\\n',\n",
              " '1) 서비스ID는 에러페이지 숨김으로 표시되어야 함.\\n',\n",
              " '2) 오류 메시지는 한글로 변환되어서 고객이 읽기 편하게  표시 되어야함.(현재 메시지테이블에 관리되어 지고 있음)\\n',\n",
              " '2021년 7월 5일 오후 12:36, 송규성 : 취소\\n',\n",
              " '2021년 7월 5일 오후 12:43, 박상훈 : 2a530915f0e90eb719bc16121f366634a88440f7cbb4ac9f263408609ad57010.jpg\\n',\n",
              " '2021년 7월 5일 오후 12:44, 박상훈 : 결함4. QR코드로 인증서 가져오기 버튼 표시 안됨\\n',\n",
              " '2021년 7월 5일 오후 12:46, 박상훈 : 3831f3a7abca9efb17734b985b07069703542b4c7f77c2023284cfe41d9d4509.jpg\\n',\n",
              " '2021년 7월 5일 오후 12:48, 박상훈 : 결함5. \\n',\n",
              " '1. 인증번호 표시 글자 크게\\n',\n",
              " '2. 인증번호로 인증서 가져오기 버튼 미표시\\n',\n",
              " '2021년 7월 5일 오후 12:50, 박상훈 : c900aa71e095bee94a6ace54b3a6e2800ff0020f5fa15ff2690b5ef935cb2ff7.jpg\\n',\n",
              " '2021년 7월 5일 오후 12:51, 박상훈 : 결함6. 만료 및 관련없는 인증서가 출력\\n',\n",
              " '2021년 7월 5일 오후 12:56, J박현철대리님 : 68414e56d786477c1034c9099b0ebe87eae6d0fb9540922f3dd24116d8c57c6a.jpg\\n',\n",
              " '2021년 7월 5일 오후 12:57, J박현철대리님 : 결함1.문구수정요청\\n',\n",
              " '2021년 7월 5일 오후 12:58, J박현철대리님 : ef5507a875b85a47b0f52119ef1b464324d6ad372a5d2efafbde1722a33daa59.jpg\\n',\n",
              " '2021년 7월 5일 오후 12:59, J박현철대리님 : 삭제된 메시지입니다.\\n',\n",
              " '2021년 7월 5일 오후 1:00, 박상훈 : a71ac6cb71ee433355cc00f47f021dbc6bb2e97c1abbb16545904d8edd21cb6b.jpg\\n',\n",
              " '2021년 7월 5일 오후 1:00, 박상훈 : 결함7. 인증서 비밀번호 검증 오류\\n',\n",
              " '- 계속 불일치로 로그인 불가\\n',\n",
              " '2021년 7월 5일 오후 1:02, J박현철대리님 : 결함2. 계좌비밀번호입력안하고 x버튼 눌럿을때 다음페이지 약관받는거래로 이동되어져버림 계정계거래안타졌음\\n',\n",
              " '2021년 7월 5일 오후 1:07, J박현철대리님 : 7ba058fdb1b30cf8091ecbefc7ef5d40c6ca4246d04b92ae12d2200ab76674a4.jpg\\n',\n",
              " '2021년 7월 5일 오후 1:08, J박현철대리님 : 결함3. 공동인증서 발급시 계좌인증쪽에서 \\n',\n",
              " '보안키패드 1회 뜨고 보안키패드 창닫고 다시 비밀번호 입력버튼누르면 보안키패드 안뜹니다\\n',\n",
              " '2021년 7월 5일 오후 1:08, 송규성 : c8000e8fd634292dc183ae74325fa975c4fab128b1b9f8009a7d7042a5f579fa.jpg\\n',\n",
              " '2021년 7월 5일 오후 1:09, 송규성 : 8e7da78c50d52cc97d86b21eb4735df4fc198c4870ebea82ad7f5d50872f3d76.jpg\\n',\n",
              " '2021년 7월 5일 오후 1:11, 송규성 : 결함 5\\n',\n",
              " '2021년 7월 5일 오후 1:11, 송규성 : 결함5\\n',\n",
              " '2021년 7월 5일 오후 1:13, 송규성 : 72824fec30e5fd38b1adfdfe1736fe0325c5867a590489f25ea046e71a32b0bf.jpg\\n',\n",
              " '2021년 7월 5일 오후 1:13, 송규성 : 결함6 플레이스 폴더 문구 삭제\\n',\n",
              " '2021년 7월 5일 오후 1:16, 송규성 : 4648d8724883ac1d0c01f0d6003134e42ca962f6f70077f789c060400d5dc9dd.jpg\\n',\n",
              " '2021년 7월 5일 오후 1:16, 김강래님이 이재현님을 초대했습니다.\\n',\n",
              " '2021년 7월 5일 오후 1:17, 송규성 : 결함7 주민등록번호 입력하고 \"다음\" 누르면 계좌번호 입력으로 이동하는게 아니라 \"계좌비밀번호\" 입력하는 보안키패드가 나옴.\\n',\n",
              " '2021년 7월 5일 오후 1:19, 이해승 : 이체부분..입금계좌번호 자리수검증,체크디지트 검증 다빠짐\\n',\n",
              " '2021년 7월 5일 오후 1:20, 이해승 : 이체부분 ..입금계좌입력후 금액입력으로 감..그런데 백버튼이 안됨.\\n',\n",
              " '2021년 7월 5일 오후 1:25, 박상훈 : @이해승 부장님\\n',\n",
              " '통합테스트 결함관리대장을 테스터별로 별도 엑셀로 작성해 주셔야 합니다.\\n',\n",
              " '\\n',\n",
              " '작성 가이드 문서는 김봉운 부부장과 서울 상주인력에게 배포해 드렸습니다.\\n',\n",
              " '\\n',\n",
              " '참고로, 지금까지 올려주신 결함내용은 제가 작성하였습니다.\\n',\n",
              " '2021년 7월 5일 오후 1:26, 이해승 : @박상훈 네\\n',\n",
              " '2021년 7월 5일 오후 1:29, 박상훈 : @이해승 \\n',\n",
              " '오늘은 제가 작성할테니 결함내용 올려주세요~\\n',\n",
              " '2021년 7월 5일 오후 1:33, 이해승 : 이체시 계좌번호오류가 발생했는데..다음단계 화면으로 가 있네요..\\n',\n",
              " '2021년 7월 5일 오후 1:35, 송규성 : 4c3777bce28b09eb718ae54a847f1238de44a48852c52a12f27cc7246b198784.jpg\\n',\n",
              " '2021년 7월 5일 오후 1:36, 송규성 : 결함8 본인확인수단 선택에서 아무것도 선택 안하고 \"X\" 또는 \"확인\" 누르면 \"전북은행 계좌인증\" 화면으로 이동됨.\\n',\n",
              " '2021년 7월 5일 오후 1:59, 이해승 : 이체\\n',\n",
              " '이체후 메인화면의 잔액이 감소하지 않음\\n',\n",
              " '2021년 7월 5일 오후 2:09, 송규성 : 9a9107bd87737a03c724022189b716e63e9c04f4a79236708f89c8fb9493a514.jpg\\n',\n",
              " '2021년 7월 5일 오후 2:10, 송규성 : 결함 9  금융인증서 전북은행 계좌인증에서 계좌비밀번호 입력화면부분에서 1) 2) 순으로 \"X\" 를 누르면 화면이 닫히고 좀 있다가 다음 화면인 약관 동의 화면으로 이동함.\\n',\n",
              " '2021년 7월 5일 오후 2:53, 박상훈 : 8d8db8a9b3b449e1b4033f03f63f8c2d25604ef1f79fd379c07ee6d3d3d5c77d.jpg\\n',\n",
              " '2021년 7월 5일 오후 2:54, 박상훈 : 결함8. 사업자 인증서 발급안내 OOOO 문구수정 필요\\n',\n",
              " '2021년 7월 5일 오후 2:54, 박상훈 : eeefa43bd9fe19739c70abbdfda13b09a67708378a6a9c996d5fca57c7123f37.jpg\\n',\n",
              " '2021년 7월 5일 오후 2:55, 박상훈 : 결함9. 앱설치하기 클릭시 처리 안됨\\n',\n",
              " '2021년 7월 5일 오후 3:08, 이해승 : [자동이체1차] 자동이체등록시 금액을 입력하는 키페드와 이체시의 키페드가 상이함.\\n',\n",
              " '2021년 7월 5일 오후 3:08, 이해승 : [자동이체2차] 자동이체 금액 키페드에서 이동버튼이 작동안함\\n',\n",
              " '2021년 7월 5일 오후 3:10, 이해승 : [자동이체1차] 자동이체 등록을 다 하지 않았는데 아래확인버튼이 뜸..확인버튼은 입력이 완료된후에 활성화가 되어야 할것으로 판단됨\\n',\n",
              " '2021년 7월 5일 오후 3:13, 이해승 : [자동이체등록] 은행/증권사팝업에서 은행 아이콘이 안보임\\n',\n",
              " '2021년 7월 5일 오후 3:20, 송규성 : 1796778e08755f9c606d3b5f941483664d1f3eb5da43e3c736903d588c506bfc.jpg\\n',\n",
              " '2021년 7월 5일 오후 3:21, 송규성 : 결함 18  ARS본인인증 팝업 퍼블 반영안됨.\\n',\n",
              " '2021년 7월 5일 오후 3:21, 박상훈 : @이해승 부장님\\n',\n",
              " '이후 결함내용은 강호형 대리가 작성예정입니다.\\n',\n",
              " '2021년 7월 5일 오후 3:23, 이해승 : @박상훈  넵\\n',\n",
              " '2021년 7월 5일 오후 3:27, 이해승 : [자동이체 등록] 계좌번호는 최소 자릿수 검증을 하지 않고 있음.\\n',\n",
              " '2021년 7월 5일 오후 3:28, 이해승 : [자동이체 등록] 출금계좌에 대한 비밀번호 검증을 한후에 입금정보 입력으로 가는 것이 맞을 듯합니다.\\n',\n",
              " '2021년 7월 5일 오후 3:50, 송규성 : 14c04f13a3ed731a2a5cb528568e3a2d4dedac7acf324d4120de3ed2ba8b4e78.jpg\\n',\n",
              " '2021년 7월 5일 오후 3:50, 송규성 : 결함 20  포맷팅 필요\\n',\n",
              " '2021년 7월 5일 오후 3:52, 송규성 : 6cbcc01206cdf3f351bff698c1773ea19774979d163ed17fe0fdcba43fcf7e3e.jpg\\n',\n",
              " '2021년 7월 5일 오후 3:52, 송규성 : 0359f3685af261ca6d2f9a8859104335682a5ad96fd7cc963e00b5c47c07f9e4.jpg\\n',\n",
              " '2021년 7월 5일 오후 3:53, 송규성 : 결함21 이메일 없어서 입력하고 \"다음\" 누르면 이메일 형식이 옳지 않습니다\" 메시지 나옴.\\n',\n",
              " '2021년 7월 5일 오후 4:04, 박상훈 : 6b28f0eb7e92500818e29d49b0bdf151474fb7e06fb41784307dbb70bc29d28e.jpg\\n',\n",
              " '2021년 7월 5일 오후 4:05, 박상훈 : 결함10. 이름 입력시 키보드 위로 입력항목 자동 스크롤 처리 필요\\n',\n",
              " '2021년 7월 5일 오후 4:13, 박상훈 : 06f2046da0a9314d34014b1f871d52e0839106dc0171da8438d33c6fb1550906.jpg\\n',\n",
              " '2021년 7월 5일 오후 4:15, 박상훈 : 결함11. 주민등록번호 6-7 입력항목 분리 안됨\\n',\n",
              " '2021년 7월 5일 오후 6:00, 이해승 : [자동이체] 추가인증 오류로 테스트가 안돼요.\\n',\n",
              " '2021년 7월 5일 오후 6:03, 이해승 : [예약이체예정내역조회]조회 데이터의 이체등록일시,이체예정일시의 데이터가 시간이 나오지 않은 것 같음. 분초만 나옴.\\n',\n",
              " '2021년 7월 5일 오후 6:06, 이해승 : 시간부분이 깨짐\\n',\n",
              " '2021년 7월 5일 오후 7:30, 이해승 : [거래내역조회] 출금거래금액의 -가 2개가 표시되네요 +는 1개인데\\n',\n",
              " '2021년 7월 5일 오후 7:31, 이해승 : [거래내역조회] 백버튼이 먿지 않음\\n']"
            ]
          },
          "metadata": {
            "tags": []
          },
          "execution_count": 80
        }
      ]
    },
    {
      "cell_type": "markdown",
      "metadata": {
        "id": "gd1FfAearsgf"
      },
      "source": [
        "전처리 과정"
      ]
    },
    {
      "cell_type": "code",
      "metadata": {
        "id": "gEo_mxf6fiJV"
      },
      "source": [
        "temp_data = '\\n'.join(start_data)\n",
        "data_string = temp_data.split('\\n\\n')\n",
        "app = ''.join(data_string)\n",
        "data_want = app.split('2021년')\n",
        "data_want = data_want[1:]"
      ],
      "execution_count": 81,
      "outputs": []
    },
    {
      "cell_type": "markdown",
      "metadata": {
        "id": "BcHtcAL8rvlD"
      },
      "source": [
        "정제 과정"
      ]
    },
    {
      "cell_type": "code",
      "metadata": {
        "id": "VfASA-V7jli4"
      },
      "source": [
        "Data = pd.DataFrame(data_want,columns = ['Rev'])"
      ],
      "execution_count": 201,
      "outputs": []
    },
    {
      "cell_type": "markdown",
      "metadata": {
        "id": "47wzJRcSr0I7"
      },
      "source": [
        "정제과정 _ test"
      ]
    },
    {
      "cell_type": "code",
      "metadata": {
        "colab": {
          "base_uri": "https://localhost:8080/"
        },
        "id": "S5NXxYCvl2Ti",
        "outputId": "aa0860c0-30fa-4b10-babf-d3c356d9edf5"
      },
      "source": [
        "Data.Rev.str.split(',')[4]"
      ],
      "execution_count": 134,
      "outputs": [
        {
          "output_type": "execute_result",
          "data": {
            "text/plain": [
              "[' 7월 5일 오전 9:49',\n",
              " ' 박상훈 : (공지안내)비대면채널부',\n",
              " ' 전자금융팀 통합테스트 실시기간 : 7월5일~7월16일테스트가이드는 사전 배포하였으니 적극 참여 요청드립니다.']"
            ]
          },
          "metadata": {
            "tags": []
          },
          "execution_count": 134
        }
      ]
    },
    {
      "cell_type": "code",
      "metadata": {
        "id": "ZGSu0P0RpxpO"
      },
      "source": [
        "Data['test2'] = Data.Rev.apply(lambda x: re.split('\\d월 \\d일 오[전후] [\\d:]+', x))"
      ],
      "execution_count": 167,
      "outputs": []
    },
    {
      "cell_type": "code",
      "metadata": {
        "colab": {
          "base_uri": "https://localhost:8080/"
        },
        "id": "7GyIYfvfpxbv",
        "outputId": "aa23243a-9eb6-40fb-8f92-853f1e8ab4a0"
      },
      "source": [
        "Data.test2.apply(lambda x: len(x)).value_counts()"
      ],
      "execution_count": 173,
      "outputs": [
        {
          "output_type": "execute_result",
          "data": {
            "text/plain": [
              "2    92\n",
              "Name: test2, dtype: int64"
            ]
          },
          "metadata": {
            "tags": []
          },
          "execution_count": 173
        }
      ]
    },
    {
      "cell_type": "markdown",
      "metadata": {
        "id": "4JQkgmQZr26r"
      },
      "source": [
        "정제과정 시작"
      ]
    },
    {
      "cell_type": "code",
      "metadata": {
        "id": "3UahNyCNrMqK"
      },
      "source": [
        "Data['Day'] = Data.Rev.apply(lambda x: re.findall('\\d월 \\d일 오[전후] [\\d:]+',x))\n",
        "Data['Review_test'] = Data.Rev.apply(lambda x: re.split('\\d월 \\d일 오[전후] [\\d:]+', x)).str[1].str[2:]\n",
        "Data['Name'] = Data['Review_test'].apply(lambda x : x[:3])\n",
        "Data['Review'] = Data['Review_test'].apply(lambda x : x[6:])"
      ],
      "execution_count": 203,
      "outputs": []
    },
    {
      "cell_type": "code",
      "metadata": {
        "id": "MrFNwVU6sMex"
      },
      "source": [
        "Pra_data = Data.copy()"
      ],
      "execution_count": 208,
      "outputs": []
    },
    {
      "cell_type": "code",
      "metadata": {
        "id": "EV6B3LV7sQDA"
      },
      "source": [
        "del Pra_data['Rev']\n",
        "del Pra_data['Review_test']"
      ],
      "execution_count": 210,
      "outputs": []
    },
    {
      "cell_type": "code",
      "metadata": {
        "id": "zWdrvnwbrMZS"
      },
      "source": [
        " Pra_data= Pra_data.reindex(columns = ['Day','Name',\"Review\"])"
      ],
      "execution_count": 212,
      "outputs": []
    },
    {
      "cell_type": "code",
      "metadata": {
        "id": "szGmPWXKsiCm"
      },
      "source": [
        "Pra_data.Day = Pra_data.Day.apply(lambda x: x[0])"
      ],
      "execution_count": 214,
      "outputs": []
    },
    {
      "cell_type": "code",
      "metadata": {
        "colab": {
          "base_uri": "https://localhost:8080/",
          "height": 419
        },
        "id": "0LIEj9hXsilW",
        "outputId": "19246c43-1897-438c-a2c1-cc46dcff2484"
      },
      "source": [
        "Pra_data.to_csv('data')"
      ],
      "execution_count": 215,
      "outputs": [
        {
          "output_type": "execute_result",
          "data": {
            "text/html": [
              "<div>\n",
              "<style scoped>\n",
              "    .dataframe tbody tr th:only-of-type {\n",
              "        vertical-align: middle;\n",
              "    }\n",
              "\n",
              "    .dataframe tbody tr th {\n",
              "        vertical-align: top;\n",
              "    }\n",
              "\n",
              "    .dataframe thead th {\n",
              "        text-align: right;\n",
              "    }\n",
              "</style>\n",
              "<table border=\"1\" class=\"dataframe\">\n",
              "  <thead>\n",
              "    <tr style=\"text-align: right;\">\n",
              "      <th></th>\n",
              "      <th>Day</th>\n",
              "      <th>Name</th>\n",
              "      <th>Review</th>\n",
              "    </tr>\n",
              "  </thead>\n",
              "  <tbody>\n",
              "    <tr>\n",
              "      <th>0</th>\n",
              "      <td>7월 5일 오전 9:43</td>\n",
              "      <td>박상훈</td>\n",
              "      <td>8c2b19bbac2e4e1722291ff1509edd4735d44d04f9b84c...</td>\n",
              "    </tr>\n",
              "    <tr>\n",
              "      <th>1</th>\n",
              "      <td>7월 5일 오전 9:43</td>\n",
              "      <td>박상훈</td>\n",
              "      <td>결함1. 앱기동시 테스트 문구 출력</td>\n",
              "    </tr>\n",
              "    <tr>\n",
              "      <th>2</th>\n",
              "      <td>7월 5일 오전 9:43</td>\n",
              "      <td>박상훈</td>\n",
              "      <td>841cdaa95191d28b9394842ac62455410aceb3b4109162...</td>\n",
              "    </tr>\n",
              "    <tr>\n",
              "      <th>3</th>\n",
              "      <td>7월 5일 오전 9:44</td>\n",
              "      <td>박상훈</td>\n",
              "      <td>결함2. 웰컴페이지 화면출력시 수차례 깜박거림 제거 필요</td>\n",
              "    </tr>\n",
              "    <tr>\n",
              "      <th>4</th>\n",
              "      <td>7월 5일 오전 9:49</td>\n",
              "      <td>박상훈</td>\n",
              "      <td>(공지안내)비대면채널부, 전자금융팀 통합테스트 실시기간 : 7월5일~7월16일테스트...</td>\n",
              "    </tr>\n",
              "    <tr>\n",
              "      <th>...</th>\n",
              "      <td>...</td>\n",
              "      <td>...</td>\n",
              "      <td>...</td>\n",
              "    </tr>\n",
              "    <tr>\n",
              "      <th>87</th>\n",
              "      <td>7월 5일 오후 6:00</td>\n",
              "      <td>이해승</td>\n",
              "      <td>[자동이체] 추가인증 오류로 테스트가 안돼요.</td>\n",
              "    </tr>\n",
              "    <tr>\n",
              "      <th>88</th>\n",
              "      <td>7월 5일 오후 6:03</td>\n",
              "      <td>이해승</td>\n",
              "      <td>[예약이체예정내역조회]조회 데이터의 이체등록일시,이체예정일시의 데이터가 시간이 나오...</td>\n",
              "    </tr>\n",
              "    <tr>\n",
              "      <th>89</th>\n",
              "      <td>7월 5일 오후 6:06</td>\n",
              "      <td>이해승</td>\n",
              "      <td>시간부분이 깨짐</td>\n",
              "    </tr>\n",
              "    <tr>\n",
              "      <th>90</th>\n",
              "      <td>7월 5일 오후 7:30</td>\n",
              "      <td>이해승</td>\n",
              "      <td>[거래내역조회] 출금거래금액의 -가 2개가 표시되네요 +는 1개인데</td>\n",
              "    </tr>\n",
              "    <tr>\n",
              "      <th>91</th>\n",
              "      <td>7월 5일 오후 7:31</td>\n",
              "      <td>이해승</td>\n",
              "      <td>[거래내역조회] 백버튼이 먿지 않음\\n</td>\n",
              "    </tr>\n",
              "  </tbody>\n",
              "</table>\n",
              "<p>92 rows × 3 columns</p>\n",
              "</div>"
            ],
            "text/plain": [
              "              Day Name                                             Review\n",
              "0   7월 5일 오전 9:43  박상훈  8c2b19bbac2e4e1722291ff1509edd4735d44d04f9b84c...\n",
              "1   7월 5일 오전 9:43  박상훈                                결함1. 앱기동시 테스트 문구 출력\n",
              "2   7월 5일 오전 9:43  박상훈  841cdaa95191d28b9394842ac62455410aceb3b4109162...\n",
              "3   7월 5일 오전 9:44  박상훈                    결함2. 웰컴페이지 화면출력시 수차례 깜박거림 제거 필요\n",
              "4   7월 5일 오전 9:49  박상훈  (공지안내)비대면채널부, 전자금융팀 통합테스트 실시기간 : 7월5일~7월16일테스트...\n",
              "..            ...  ...                                                ...\n",
              "87  7월 5일 오후 6:00  이해승                          [자동이체] 추가인증 오류로 테스트가 안돼요.\n",
              "88  7월 5일 오후 6:03  이해승  [예약이체예정내역조회]조회 데이터의 이체등록일시,이체예정일시의 데이터가 시간이 나오...\n",
              "89  7월 5일 오후 6:06  이해승                                           시간부분이 깨짐\n",
              "90  7월 5일 오후 7:30  이해승              [거래내역조회] 출금거래금액의 -가 2개가 표시되네요 +는 1개인데\n",
              "91  7월 5일 오후 7:31  이해승                              [거래내역조회] 백버튼이 먿지 않음\\n\n",
              "\n",
              "[92 rows x 3 columns]"
            ]
          },
          "metadata": {
            "tags": []
          },
          "execution_count": 215
        }
      ]
    },
    {
      "cell_type": "code",
      "metadata": {
        "id": "cKM0qiYJsnGu"
      },
      "source": [
        ""
      ],
      "execution_count": null,
      "outputs": []
    }
  ]
}